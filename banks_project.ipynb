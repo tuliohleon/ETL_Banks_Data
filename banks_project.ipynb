{
 "cells": [
  {
   "cell_type": "code",
   "execution_count": 2,
   "metadata": {},
   "outputs": [],
   "source": [
    "from bs4 import BeautifulSoup\n",
    "import requests\n",
    "import pandas as pd\n",
    "import numpy as np\n",
    "import sqlite3\n",
    "from datetime import datetime"
   ]
  },
  {
   "cell_type": "markdown",
   "metadata": {},
   "source": [
    "### Task 1: Logging function"
   ]
  },
  {
   "cell_type": "code",
   "execution_count": 3,
   "metadata": {},
   "outputs": [],
   "source": [
    "def log_progress(message):\n",
    "    ''' This function logs the mentioned message of a given stage of the\n",
    "    code execution to a log file. Function returns nothing'''\n",
    "    with open('code_log.txt', 'a') as f:\n",
    "        f.write(f'{datetime.now()}: {message}\\n')"
   ]
  },
  {
   "cell_type": "code",
   "execution_count": 4,
   "metadata": {},
   "outputs": [],
   "source": [
    "url = 'https://web.archive.org/web/20230908091635/https://en.wikipedia.org/wiki/List_of_largest_banks'\n",
    "table_attribs = [\"Bank_name\", \"Market_cap_USD_billions\"]"
   ]
  },
  {
   "cell_type": "code",
   "execution_count": 32,
   "metadata": {},
   "outputs": [],
   "source": [
    "def extract(url, table_attribs):\n",
    "    ''' This function aims to extract the required\n",
    "    information from the website and save it to a data frame. The\n",
    "    function returns the data frame for further processing. '''\n",
    "\n",
    "    #Extract the web page as text\n",
    "    html_page = requests.get(url).text\n",
    "\n",
    "    #Parse the html page    \n",
    "    data = BeautifulSoup(html_page, 'html.parser')\n",
    "\n",
    "    #Create an empty pandas DataFrame named df with columns as the table_attribs\n",
    "    df = pd.DataFrame(columns=table_attribs)\n",
    "\n",
    "    #Extract all 'tbody' attributes of the HTML object and then extract all the rows of the index 2 table using the 'tr' attribute.\n",
    "    tables = data.find_all('tbody')\n",
    "    rows = tables[0].find_all('tr')\n",
    "\n",
    "    #Check the contents of each row, having attribute ‘td’, for the following conditions.\n",
    "    #a. The row should not be empty.\n",
    "    #b. The first column should contain a hyperlink.\n",
    "    #c. The third column should not be '—'.\n",
    "\n",
    "    rows_to_add = []\n",
    "\n",
    "    for row in rows:\n",
    "                 \n",
    "    #     # Extract all 'td' elements in the current row\n",
    "         cells = row.find_all('td')\n",
    "   \n",
    "         if len(cells) > 2 and cells[1].find('a'):\n",
    "                    \n",
    "          # Extract data for each attribute\n",
    "          bank = cells[1].text.strip()\n",
    "          mc_usd_billions = cells[2].text.strip()\n",
    "\n",
    "          # Store valid entries in a dictionary\n",
    "          entry = {\n",
    "                 table_attribs[0]: bank,\n",
    "                 table_attribs[1]: mc_usd_billions if mc_usd_billions else None\n",
    "                 }\n",
    "          # Add the entry to the list of rows to add\n",
    "          rows_to_add.append(entry)\n",
    "    #Concatenate all rows to the DataFrame\n",
    "    df = pd.concat([df, pd.DataFrame(rows_to_add)], ignore_index=True)\n",
    "\n",
    "    return df"
   ]
  },
  {
   "cell_type": "code",
   "execution_count": 34,
   "metadata": {},
   "outputs": [
    {
     "name": "stdout",
     "output_type": "stream",
     "text": [
      "                                 Bank_name Market_cap_USD_billions\n",
      "0                           JPMorgan Chase                  432.92\n",
      "1                          Bank of America                  231.52\n",
      "2  Industrial and Commercial Bank of China                  194.56\n",
      "3               Agricultural Bank of China                  160.68\n",
      "4                                HDFC Bank                  157.91\n",
      "5                              Wells Fargo                  155.87\n",
      "6                        HSBC Holdings PLC                  148.90\n",
      "7                           Morgan Stanley                  140.83\n",
      "8                  China Construction Bank                  139.82\n",
      "9                            Bank of China                  136.81\n"
     ]
    }
   ],
   "source": [
    "df=extract(url, table_attribs)\n",
    "print(df)"
   ]
  },
  {
   "cell_type": "code",
   "execution_count": null,
   "metadata": {},
   "outputs": [],
   "source": []
  }
 ],
 "metadata": {
  "kernelspec": {
   "display_name": ".venv",
   "language": "python",
   "name": "python3"
  },
  "language_info": {
   "codemirror_mode": {
    "name": "ipython",
    "version": 3
   },
   "file_extension": ".py",
   "mimetype": "text/x-python",
   "name": "python",
   "nbconvert_exporter": "python",
   "pygments_lexer": "ipython3",
   "version": "3.9.18"
  }
 },
 "nbformat": 4,
 "nbformat_minor": 2
}
